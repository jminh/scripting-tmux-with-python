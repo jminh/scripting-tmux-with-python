{
 "cells": [
  {
   "cell_type": "markdown",
   "metadata": {
    "toc": "true"
   },
   "source": [
    "# Table of Contents\n",
    " <p><div class=\"lev1\"><a href=\"#tmux-script-with-python\"><span class=\"toc-item-num\">1&nbsp;&nbsp;</span>tmux script with python</a></div><div class=\"lev2\"><a href=\"#Demo\"><span class=\"toc-item-num\">1.1&nbsp;&nbsp;</span>Demo</a></div><div class=\"lev2\"><a href=\"#Example1\"><span class=\"toc-item-num\">1.2&nbsp;&nbsp;</span>Example1</a></div><div class=\"lev2\"><a href=\"#Example2\"><span class=\"toc-item-num\">1.3&nbsp;&nbsp;</span>Example2</a></div>"
   ]
  },
  {
   "cell_type": "markdown",
   "metadata": {},
   "source": [
    "# tmux script with python"
   ]
  },
  {
   "cell_type": "markdown",
   "metadata": {},
   "source": [
    "pip install libtmux"
   ]
  },
  {
   "cell_type": "markdown",
   "metadata": {},
   "source": [
    "## Demo"
   ]
  },
  {
   "cell_type": "code",
   "execution_count": null,
   "metadata": {
    "collapsed": true
   },
   "outputs": [],
   "source": [
    "import libtmux"
   ]
  },
  {
   "cell_type": "code",
   "execution_count": null,
   "metadata": {
    "collapsed": true
   },
   "outputs": [],
   "source": [
    "server = libtmux.Server()"
   ]
  },
  {
   "cell_type": "code",
   "execution_count": null,
   "metadata": {
    "collapsed": false
   },
   "outputs": [],
   "source": [
    "server.list_sessions()"
   ]
  },
  {
   "cell_type": "code",
   "execution_count": null,
   "metadata": {
    "collapsed": true
   },
   "outputs": [],
   "source": [
    "session = server.new_session('hello', kill_session=True)"
   ]
  },
  {
   "cell_type": "code",
   "execution_count": null,
   "metadata": {
    "collapsed": false
   },
   "outputs": [],
   "source": [
    "w = session.attached_window\n",
    "w.rename_window('run-jenkins')"
   ]
  },
  {
   "cell_type": "code",
   "execution_count": null,
   "metadata": {
    "collapsed": false
   },
   "outputs": [],
   "source": [
    "w = session.new_window(window_name='world', start_directory='~')"
   ]
  },
  {
   "cell_type": "code",
   "execution_count": null,
   "metadata": {
    "collapsed": true
   },
   "outputs": [],
   "source": [
    "p = w.attached_pane\n",
    "p.send_keys('java -version')"
   ]
  },
  {
   "cell_type": "markdown",
   "metadata": {},
   "source": [
    "## Example1"
   ]
  },
  {
   "cell_type": "code",
   "execution_count": null,
   "metadata": {
    "collapsed": true
   },
   "outputs": [],
   "source": [
    "import libtmux\n",
    "\n",
    "server = libtmux.Server()\n",
    "session = server.new_session('run-jenkins', kill_session=True)\n",
    "#session = libtmux.new_session('run-jenkins')\n",
    "\n",
    "w = session.attached_window\n",
    "w.rename_window('run-jenkins')\n",
    "p = w.attached_pane\n",
    "\n",
    "p.send_keys('setenv JAVA_HOME ~/jdk1.8.0_73')\n",
    "p.send_keys('setenv PATH $JAVA_HOME/bin:$PATH')\n",
    "p.send_keys('java -version')\n",
    "#p.send_keys('java -jar jenkins.war')"
   ]
  },
  {
   "cell_type": "markdown",
   "metadata": {},
   "source": [
    "## Example2"
   ]
  },
  {
   "cell_type": "code",
   "execution_count": null,
   "metadata": {
    "collapsed": true
   },
   "outputs": [],
   "source": [
    "import libtmux\n",
    "\n",
    "server = libtmux.Server()\n",
    "session = server.new_session('run-mongodb', kill_session=True)\n",
    "\n",
    "w = session.attached_window\n",
    "w.rename_window('run-mongo')\n",
    "p = w.attached_pane\n",
    "\n",
    "p.send_keys('cd ~')\n",
    "p.send_keys('mongod --config mongod_config.txt --rest')\n",
    "\n",
    "restheart_w = session.new_window('run-resthear')\n",
    "restheart_p = restheart_w.attached_pane\n",
    "restheart_p.send_keys('cd ~/restheart-2.0.0')\n",
    "#restheart_p.send_keys('java -server -jar restheart.jar')\n",
    "\n",
    "vulture_w = session.new_window('run-vulture')\n",
    "vulture_p = vulture_w.attached_pane\n",
    "vulture_p.send_keys('cd ~/restheart-2.0.0')\n",
    "#vulture_p.send_keys('cd ~/restheart-2.0.0')"
   ]
  },
  {
   "cell_type": "code",
   "execution_count": null,
   "metadata": {
    "collapsed": true
   },
   "outputs": [],
   "source": []
  },
  {
   "cell_type": "code",
   "execution_count": null,
   "metadata": {
    "collapsed": true
   },
   "outputs": [],
   "source": []
  },
  {
   "cell_type": "code",
   "execution_count": null,
   "metadata": {
    "collapsed": true
   },
   "outputs": [],
   "source": []
  }
 ],
 "metadata": {
  "kernelspec": {
   "display_name": "Python 2",
   "language": "python",
   "name": "python2"
  },
  "language_info": {
   "codemirror_mode": {
    "name": "ipython",
    "version": 2
   },
   "file_extension": ".py",
   "mimetype": "text/x-python",
   "name": "python",
   "nbconvert_exporter": "python",
   "pygments_lexer": "ipython2",
   "version": "2.7.10"
  },
  "nav_menu": {},
  "toc": {
   "navigate_menu": true,
   "number_sections": false,
   "sideBar": false,
   "threshold": 6,
   "toc_cell": true,
   "toc_section_display": "block",
   "toc_window_display": true
  }
 },
 "nbformat": 4,
 "nbformat_minor": 0
}
